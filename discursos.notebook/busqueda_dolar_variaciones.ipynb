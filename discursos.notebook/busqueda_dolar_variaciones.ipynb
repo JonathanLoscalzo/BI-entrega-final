{
 "cells": [
  {
   "cell_type": "code",
   "execution_count": 2,
   "metadata": {},
   "outputs": [],
   "source": [
    "# importamos librerías a utlizar\n",
    "import numpy as np\n",
    "import pymongo\n",
    "import pandas as pd\n",
    "from pandas.io.json import json_normalize"
   ]
  },
  {
   "cell_type": "code",
   "execution_count": 4,
   "metadata": {},
   "outputs": [],
   "source": [
    "# conectamos a la bd\n",
    "from pymongo import MongoClient\n",
    "from urllib.parse import quote_plus\n",
    "\n",
    "mongo_user = \"dev\"\n",
    "mongo_password = \"dev12345\"\n",
    "mongo_url = \"ds123454.mlab.com:23454/macri-discursos\"\n",
    "monto_url_stats = \"ds115283.mlab.com:15283/discursos-stats\"\n",
    "host = \"mongodb://ds123454.mlab.com\"\n",
    "port = 23454\n",
    "db_name = \"macri-discursos\"\n",
    "\n",
    "uri =  \"mongodb://{}:{}@{}\".format(quote_plus(mongo_user), quote_plus(mongo_password), mongo_url)\n",
    "\n",
    "client = MongoClient(uri)\n",
    "db = client[db_name]"
   ]
  },
  {
   "cell_type": "code",
   "execution_count": 6,
   "metadata": {},
   "outputs": [],
   "source": [
    "# colecciones que vamos a utilizar\n",
    "collections = [\"speeches\", \"exchanges\", \"speeches_stats\"]"
   ]
  },
  {
   "cell_type": "code",
   "execution_count": 58,
   "metadata": {},
   "outputs": [],
   "source": [
    "# obtenemos todas las cotizaciones del dolar\n",
    "exchanges = list(db.exchanges.find({}))"
   ]
  },
  {
   "cell_type": "code",
   "execution_count": 59,
   "metadata": {},
   "outputs": [
    {
     "name": "stdout",
     "output_type": "stream",
     "text": [
      "<class 'pandas.core.frame.DataFrame'>\n",
      "DatetimeIndex: 1128 entries, 2015-12-01 03:00:00 to 2018-12-01 03:00:00\n",
      "Data columns (total 1 columns):\n",
      "price    1128 non-null float64\n",
      "dtypes: float64(1)\n",
      "memory usage: 17.6 KB\n"
     ]
    }
   ],
   "source": [
    "# preprocesamos la info\n",
    "exchanges = pd.DataFrame(exchanges).drop([\"_id\", \"__v\"], axis=1).set_index('date')\n",
    "exchanges.info()"
   ]
  },
  {
   "cell_type": "code",
   "execution_count": 108,
   "metadata": {},
   "outputs": [],
   "source": [
    "# obtenemos las variaciones del dolar agrupadas cada 2 días, gracias a pandas y time-series\n",
    "variacion = exchanges.resample(\"2D\").apply(lambda df: df.iloc[-1].price - df.iloc[0].price)"
   ]
  },
  {
   "cell_type": "code",
   "execution_count": 109,
   "metadata": {},
   "outputs": [],
   "source": [
    "# nos quedamos con las mayores variaciones (positivas y negativas)\n",
    "variacion_negativa = variacion[(variacion < 0)].sort_values().head(10)\n",
    "variacion_positiva = variacion[(variacion>0)].sort_values(ascending=False).head(10)"
   ]
  },
  {
   "cell_type": "code",
   "execution_count": 116,
   "metadata": {},
   "outputs": [
    {
     "name": "stdout",
     "output_type": "stream",
     "text": [
      "date\n",
      "2018-09-30   -1.813256\n",
      "2018-09-20   -1.030452\n",
      "2018-10-30   -0.830880\n",
      "2018-10-04   -0.808928\n",
      "2018-10-10   -0.578996\n",
      "2017-12-28   -0.565945\n",
      "2018-09-18   -0.452956\n",
      "2018-05-03   -0.425976\n",
      "2018-09-16   -0.423495\n",
      "2016-03-10   -0.387052\n",
      "dtype: float64 date\n",
      "2018-08-29    4.731094\n",
      "2018-05-13    1.948073\n",
      "2018-11-25    1.496793\n",
      "2018-09-26    1.316010\n",
      "2018-09-02    1.164031\n",
      "2018-09-12    1.144484\n",
      "2018-08-09    1.131538\n",
      "2018-09-24    0.989994\n",
      "2018-06-28    0.911033\n",
      "2018-07-08    0.838979\n",
      "dtype: float64\n"
     ]
    }
   ],
   "source": [
    "print(variacion_negativa, variacion_positiva)"
   ]
  },
  {
   "cell_type": "code",
   "execution_count": 107,
   "metadata": {},
   "outputs": [
    {
     "data": {
      "text/html": [
       "<div>\n",
       "<style scoped>\n",
       "    .dataframe tbody tr th:only-of-type {\n",
       "        vertical-align: middle;\n",
       "    }\n",
       "\n",
       "    .dataframe tbody tr th {\n",
       "        vertical-align: top;\n",
       "    }\n",
       "\n",
       "    .dataframe thead th {\n",
       "        text-align: right;\n",
       "    }\n",
       "</style>\n",
       "<table border=\"1\" class=\"dataframe\">\n",
       "  <thead>\n",
       "    <tr style=\"text-align: right;\">\n",
       "      <th></th>\n",
       "      <th>price</th>\n",
       "    </tr>\n",
       "    <tr>\n",
       "      <th>date</th>\n",
       "      <th></th>\n",
       "    </tr>\n",
       "  </thead>\n",
       "  <tbody>\n",
       "    <tr>\n",
       "      <th>2018-08-28 03:00:00</th>\n",
       "      <td>31.470486</td>\n",
       "    </tr>\n",
       "    <tr>\n",
       "      <th>2018-08-29 03:00:00</th>\n",
       "      <td>34.001969</td>\n",
       "    </tr>\n",
       "  </tbody>\n",
       "</table>\n",
       "</div>"
      ],
      "text/plain": [
       "                         price\n",
       "date                          \n",
       "2018-08-28 03:00:00  31.470486\n",
       "2018-08-29 03:00:00  34.001969"
      ]
     },
     "execution_count": 107,
     "metadata": {},
     "output_type": "execute_result"
    }
   ],
   "source": [
    "# forma de obtener los precios de las cotizaciones indexadas por fechas.\n",
    "exchanges.loc['2018-08-28':'2018-08-29']"
   ]
  }
 ],
 "metadata": {
  "kernelspec": {
   "display_name": "Python 3",
   "language": "python",
   "name": "python3"
  },
  "language_info": {
   "codemirror_mode": {
    "name": "ipython",
    "version": 3
   },
   "file_extension": ".py",
   "mimetype": "text/x-python",
   "name": "python",
   "nbconvert_exporter": "python",
   "pygments_lexer": "ipython3",
   "version": "3.6.7"
  }
 },
 "nbformat": 4,
 "nbformat_minor": 2
}
