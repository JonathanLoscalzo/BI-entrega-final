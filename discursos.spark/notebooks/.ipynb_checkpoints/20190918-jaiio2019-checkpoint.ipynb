{
 "cells": [
  {
   "cell_type": "code",
   "execution_count": 1,
   "metadata": {},
   "outputs": [],
   "source": [
    "import os\n",
    "os.environ['PYSPARK_SUBMIT_ARGS'] = \"--packages org.mongodb.spark:mongo-spark-connector_2.11:2.2.5 pyspark-shell\"\n",
    "\n",
    "import findspark\n",
    "findspark.add_packages([\"org.mongodb.spark:mongo-spark-connector_2.11:2.2.5\"])\n",
    "findspark.init()"
   ]
  },
  {
   "cell_type": "code",
   "execution_count": 2,
   "metadata": {},
   "outputs": [],
   "source": [
    "import sys\n",
    "from pyspark.sql import SparkSession\n",
    "from pyspark.ml.feature import Tokenizer, RegexTokenizer, StopWordsRemover, NGram\n",
    "from pyspark.sql.types import IntegerType, MapType, StringType, BooleanType\n",
    "\n",
    "from pyspark.sql.functions import (\n",
    "    udf,\n",
    "    split,\n",
    "    explode,\n",
    "    col,\n",
    "    lower,\n",
    "    count,\n",
    "    collect_list,\n",
    "    concat,\n",
    "    create_map,\n",
    "    lit,\n",
    "    countDistinct,\n",
    ")"
   ]
  },
  {
   "cell_type": "code",
   "execution_count": 3,
   "metadata": {},
   "outputs": [],
   "source": [
    "mongo_user = \"dev\"\n",
    "mongo_password = \"dev12345\"\n",
    "mongo_url = \"ds123454.mlab.com:23454/macri-discursos\"\n",
    "monto_url_stats = \"ds115283.mlab.com:15283/discursos-stats\"\n",
    "\n",
    "uri_in = \"mongodb://{}:{}@{}.speeches\".format(mongo_user, mongo_password, mongo_url)\n",
    "\n",
    "uri_out = \"mongodb://{}:{}@{}.wordcount_out\".format(\n",
    "    mongo_user, mongo_password, mongo_url\n",
    ")"
   ]
  },
  {
   "cell_type": "code",
   "execution_count": 4,
   "metadata": {},
   "outputs": [],
   "source": [
    "spark = (\n",
    "    SparkSession.builder.appName(\"discursos.counter\")\n",
    "    .config(\"spark.mongodb.input.uri\", uri_in)\n",
    "    .config(\"spark.mongodb.output.uri\", uri_out)\n",
    "    .getOrCreate()\n",
    ")"
   ]
  },
  {
   "cell_type": "code",
   "execution_count": 5,
   "metadata": {},
   "outputs": [],
   "source": [
    "df = spark.read.format(\"com.mongodb.spark.sql.DefaultSource\").load()"
   ]
  },
  {
   "cell_type": "code",
   "execution_count": null,
   "metadata": {},
   "outputs": [],
   "source": []
  },
  {
   "cell_type": "code",
   "execution_count": null,
   "metadata": {},
   "outputs": [],
   "source": []
  }
 ],
 "metadata": {
  "kernelspec": {
   "display_name": "Python 3",
   "language": "python",
   "name": "python3"
  },
  "language_info": {
   "codemirror_mode": {
    "name": "ipython",
    "version": 3
   },
   "file_extension": ".py",
   "mimetype": "text/x-python",
   "name": "python",
   "nbconvert_exporter": "python",
   "pygments_lexer": "ipython3",
   "version": "3.5.3"
  }
 },
 "nbformat": 4,
 "nbformat_minor": 4
}
