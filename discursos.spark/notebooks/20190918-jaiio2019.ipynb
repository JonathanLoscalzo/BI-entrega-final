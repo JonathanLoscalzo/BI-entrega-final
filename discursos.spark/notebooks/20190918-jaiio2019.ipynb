{
 "cells": [
  {
   "cell_type": "code",
   "execution_count": 1,
   "metadata": {},
   "outputs": [],
   "source": [
    "import os\n",
    "os.environ['PYSPARK_SUBMIT_ARGS'] = \"--packages org.mongodb.spark:mongo-spark-connector_2.11:2.2.5 pyspark-shell\"\n",
    "\n",
    "import findspark\n",
    "findspark.add_packages([\"org.mongodb.spark:mongo-spark-connector_2.11:2.2.5\"])\n",
    "findspark.init()"
   ]
  },
  {
   "cell_type": "code",
   "execution_count": 2,
   "metadata": {},
   "outputs": [],
   "source": [
    "import sys\n",
    "from pyspark.sql import SparkSession\n",
    "from pyspark.ml.feature import Tokenizer, RegexTokenizer, StopWordsRemover, NGram\n",
    "from pyspark.sql.types import IntegerType, MapType, StringType, BooleanType\n",
    "\n",
    "from pyspark.sql.functions import (\n",
    "    udf,\n",
    "    split,\n",
    "    explode,\n",
    "    col,\n",
    "    lower,\n",
    "    count,\n",
    "    collect_list,\n",
    "    concat,\n",
    "    create_map,\n",
    "    lit,\n",
    "    countDistinct,\n",
    ")"
   ]
  },
  {
   "cell_type": "code",
   "execution_count": 3,
   "metadata": {},
   "outputs": [],
   "source": [
    "mongo_user = \"dev\"\n",
    "mongo_password = \"dev12345\"\n",
    "mongo_url = \"ds123454.mlab.com:23454/macri-discursos\"\n",
    "monto_url_stats = \"ds115283.mlab.com:15283/discursos-stats\"\n",
    "\n",
    "uri_in = \"mongodb://{}:{}@{}.speeches\".format(mongo_user, mongo_password, mongo_url)\n",
    "\n",
    "uri_out = \"mongodb://{}:{}@{}.wordcount_out\".format(\n",
    "    mongo_user, mongo_password, mongo_url\n",
    ")"
   ]
  },
  {
   "cell_type": "code",
   "execution_count": 4,
   "metadata": {},
   "outputs": [],
   "source": [
    "spark = (\n",
    "    SparkSession.builder.appName(\"discursos.counter\")\n",
    "    .config(\"spark.mongodb.input.uri\", uri_in)\n",
    "    .config(\"spark.mongodb.output.uri\", uri_out)\n",
    "    .getOrCreate()\n",
    ")"
   ]
  },
  {
   "cell_type": "code",
   "execution_count": 5,
   "metadata": {},
   "outputs": [],
   "source": [
    "df = spark.read.format(\"com.mongodb.spark.sql.DefaultSource\").load()"
   ]
  },
  {
   "cell_type": "code",
   "execution_count": 8,
   "metadata": {},
   "outputs": [
    {
     "data": {
      "text/plain": [
       "[Row(__v=0, _id=Row(oid='5c032582c104041f38a6f985'), content='BIENVENIDA DEL PRESIDENTE DE LA NACIÓN, MAURICIO MACRI, AL PRESIDENTE DE LOS ESTADOS UNIDOS DE AMÉRICA, DONALD TRUMP, EN CASA ROSADA\\n\\nMACRI.- Quiero darle la bienvenida al presidente Donald Trump a nuestro país, en su primera visita a América Latina y primera obviamente a la Argentina.\\n\\nRecién veníamos subiendo la escalera y le dije “tardamos 30 años, Donald, en lograr convencerte de que vengas”, porque hace más de 30 años que lo invito a visitar mi Ciudad y nuestro lindo país. Tuvimos que esperar que llegue a Presidente y yo a Presidente para que se logre, pero realmente estamos muy contentos los argentinos de tenerte acá en nuestro país.\\n\\nY es un gran momento para agradecer, agradecer el enorme apoyo que hemos recibido por parte de los Estados Unidos, de tu Gobierno, especialmente en este último año donde estamos atravesando momentos difíciles, y con el apoyo de ustedes y el acuerdo que se facilitó con el Fondo, hemos empezado construir de vuelta hacia un mejor futuro.\\n\\nY también agradecerte todo lo que estamos trabajando tanto en temas de educación, temas de defensa y especialmente en temas de seguridad interna, en la lucha contra el crimen organizado y el narcotráfico que son verdaderos enemigos de nuestros ciudadanos. En el trabajo que estamos realizando en conjunto hemos tenido mucho progreso, muchos avances y esperamos seguir haciéndolo por el resto del tiempo que nos quede.\\n\\nY además contarte que los inversores más importantes del mundo en la Argentina son las empresas americanas y esperamos que lo sigan haciendo, que sigan apostando al talento argentino, que nos sigan ayudando a crear empleo de calidad. Como también pasa con el turismo, que venimos teniendo cada vez más visitantes del mundo, pero desde donde han crecido más los visitantes es de los Estados Unidos: esto también es una demostración del afecto y del interés que hay en el pueblo norteamericano por la Argentina.\\n\\nAsí que muchas gracias por estar acá y seguro que en esta reunión, que vamos a tener en unos instantes, vamos a encontrar muchas otras formas de cooperar, de trabajar en conjunto, para el beneficio de nuestra gente y del pueblo norteamericano.\\n\\nGracias Donald por estar acá.\\n\\nTRUMP.- Bueno, muchas gracias, creo que le entendí mejor en su idioma que a través de la interpretación.\\n\\nQuería decirles que hace años que soy amigo de Mauricio, era un hombre joven muy buenmozo, nos conocemos muy bien, en realidad hice negocios con su familia, con su padre, excelente, muy buen amigo mío. Hubo un gran trabajo, exitoso, uno de los grandes trabajos que hicimos en Manhattan, en la época en que yo era solamente un ciudadano civil, sin saber que su hijo en un momento se convertiría en Presidente de Argentina, y creo que tú tampoco sabías que yo me iba a convertir en Presidente de Estados Unidos. Nos conocemos mucho, y vamos a hablar en temas que beneficien a ambos países: comercio, compras de material militar. Nos queda mucho por hablar, vamos a rememorar un poquito del trabajo que hacíamos en el pasado.\\n\\nEs un honor estar aquí con usted amigo mío, hace mucho que nos conocemos, gran familia, excelente trabajo y felicitaciones para ti.', date=datetime.datetime(2018, 11, 30, 3, 0), subtitle='BIENVENIDA DEL PRESIDENTE DE LA NACIÓN, MAURICIO MACRI, AL PRESIDENTE DE LOS ESTADOS UNIDOS DE AMÉRICA, DONALD TRUMP, EN CASA ROSADA', title='Bienvenida del presidente Mauricio Macri a su par de los Estados Unidos, Donald Trump\\nCompartilo en redes :\\n\\n\\nViernes 30 de noviembre de 2018', uri='https://www.casarosada.gob.ar/informacion/discursos//informacion/discursos/44286-bienvenida-del-presidente-mauricio-macri-a-su-par-de-los-estados-unidos-donald-trump')]"
      ]
     },
     "execution_count": 8,
     "metadata": {},
     "output_type": "execute_result"
    }
   ],
   "source": [
    "df.take(1)"
   ]
  },
  {
   "cell_type": "code",
   "execution_count": null,
   "metadata": {},
   "outputs": [],
   "source": []
  }
 ],
 "metadata": {
  "kernelspec": {
   "display_name": "Python 3",
   "language": "python",
   "name": "python3"
  },
  "language_info": {
   "codemirror_mode": {
    "name": "ipython",
    "version": 3
   },
   "file_extension": ".py",
   "mimetype": "text/x-python",
   "name": "python",
   "nbconvert_exporter": "python",
   "pygments_lexer": "ipython3",
   "version": "3.5.3"
  }
 },
 "nbformat": 4,
 "nbformat_minor": 4
}
